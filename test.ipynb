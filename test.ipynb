{
 "cells": [
  {
   "cell_type": "code",
   "execution_count": null,
   "metadata": {},
   "outputs": [],
   "source": [
    "import numpy as np\n",
    "import pandas as pd\n",
    "import seaborn as sns\n",
    "import streamlit as st \n",
    "import io\n",
    "import matplotlib.pyplot as plt\n",
    "from sklearn.linear_model import LinearRegression\n",
    "from sklearn.model_selection import train_test_split"
   ]
  },
  {
   "cell_type": "code",
   "execution_count": null,
   "metadata": {},
   "outputs": [],
   "source": [
    "path=\"https://frenzy86.s3.eu-west-2.amazonaws.com/python/data/immobili.csv\"\n",
    "df = pd.read_csv(path, sep=',')\n",
    "df"
   ]
  },
  {
   "cell_type": "code",
   "execution_count": null,
   "metadata": {},
   "outputs": [],
   "source": [
    "target = \"\"\n",
    "X = df.drop(columns=target)\n",
    "y = df[target]"
   ]
  },
  {
   "cell_type": "code",
   "execution_count": null,
   "metadata": {},
   "outputs": [],
   "source": [
    "X_train,X_test,y_train,y_test= train_test_split(X,y,\n",
    "                                                test_size=0.2,\n",
    "                                                random_state=667\n",
    "                                                )\n",
    "model = LinearRegression(fit_intercept=True)\n",
    "model.fit(X_train,y_train)\n",
    "y_pred=model.predict(X_test)\n",
    "length = y_pred.shape[0]\n",
    "k = np.linspace(0,length,length)\n",
    "\n",
    "plt.figure(figsize=(10,7))\n",
    "plt.plot(k,y_test, label=\"Allenata\")\n",
    "plt.plot(k,y_pred, label=\"Previsione\")\n",
    "plt.legend(loc=2);"
   ]
  },
  {
   "attachments": {},
   "cell_type": "markdown",
   "metadata": {},
   "source": [
    "## R2_score, Mean Absolute Error, Mean Squared Error, Root Mean Squared Error "
   ]
  },
  {
   "cell_type": "code",
   "execution_count": null,
   "metadata": {},
   "outputs": [],
   "source": [
    "from  sklearn.metrics import r2_score, mean_absolute_error,mean_squared_error\n",
    "r2score = r2_score(y_test,y_pred)\n",
    "mae = mean_absolute_error(y_test,y_pred)\n",
    "mse = mean_squared_error(y_test,y_pred)\n",
    "rmse = mean_squared_error(y_test,y_pred, squared=False)\n",
    "\n",
    "print('R2_score:',r2score)\n",
    "print('MAE:',mae)\n",
    "print('MSE:',mse)\n",
    "print('RMSE:',rmse)\n"
   ]
  },
  {
   "attachments": {},
   "cell_type": "markdown",
   "metadata": {},
   "source": [
    "## Export model with Joblib"
   ]
  },
  {
   "cell_type": "code",
   "execution_count": null,
   "metadata": {},
   "outputs": [],
   "source": [
    "import joblib\n",
    "\n",
    "## to save a model\n",
    "joblib.dump(model,'regression_test.pkl')"
   ]
  }
 ],
 "metadata": {
  "language_info": {
   "name": "python"
  },
  "orig_nbformat": 4
 },
 "nbformat": 4,
 "nbformat_minor": 2
}
